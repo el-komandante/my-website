{
 "cells": [
  {
   "cell_type": "code",
   "execution_count": null,
   "metadata": {
    "collapsed": true
   },
   "outputs": [],
   "source": [
    "from opencage.geocoder import OpenCageGeocode\n",
    "\n",
    "def get_gps_coords(dataframe):\n",
    "    #Create geolocator\n",
    "    key = YOUR_API_KEY\n",
    "    geolocator = OpenCageGeocode(key)\n",
    "    locations = []\n",
    "    df_locations = dataframe[u'Location:']\n",
    "    df_locations.dropna(axis=0, how='any', inplace=True)\n",
    "\n",
    "    #Geocode each address from the \"Location:\" column and return a list of coordinates.\n",
    "    for address in df_locations:\n",
    "        location = geolocator.geocode(address + ' EVANSTON, IL', timeout=None)\n",
    "        if location:\n",
    "            longitude = location[0]['geometry']['lng']\n",
    "            latitude  = location[0]['geometry'][\"lat\"]\n",
    "            locations.append((latitude, longitude))\n",
    "        else:\n",
    "            break\n",
    "    return location"
   ]
  }
 ],
 "metadata": {
  "kernelspec": {
   "display_name": "Python 2",
   "language": "python",
   "name": "python2"
  },
  "language_info": {
   "codemirror_mode": {
    "name": "ipython",
    "version": 2
   },
   "file_extension": ".py",
   "mimetype": "text/x-python",
   "name": "python",
   "nbconvert_exporter": "python",
   "pygments_lexer": "ipython2",
   "version": "2.7.11"
  }
 },
 "nbformat": 4,
 "nbformat_minor": 0
}
