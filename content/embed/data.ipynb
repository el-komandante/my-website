{
 "cells": [
  {
   "cell_type": "code",
   "execution_count": 1,
   "metadata": {
    "collapsed": false
   },
   "outputs": [
    {
     "data": {
      "text/html": [
       "<div>\n",
       "<table border=\"1\" class=\"dataframe\">\n",
       "  <thead>\n",
       "    <tr style=\"text-align: right;\">\n",
       "      <th></th>\n",
       "      <th>Case Number</th>\n",
       "      <th>Common Name:</th>\n",
       "      <th>Criminal Offense:</th>\n",
       "      <th>Date &amp; Time: Occurred</th>\n",
       "      <th>Date &amp; Time: Reported</th>\n",
       "      <th>Disposition:</th>\n",
       "      <th>Incident Type:</th>\n",
       "      <th>Location:</th>\n",
       "    </tr>\n",
       "  </thead>\n",
       "  <tbody>\n",
       "    <tr>\n",
       "      <th>1</th>\n",
       "      <td>2016-00000686</td>\n",
       "      <td>Bienen Music School</td>\n",
       "      <td>All Disorderly Conduct</td>\n",
       "      <td>2016-05-01 13:56:00</td>\n",
       "      <td>2016-05-01 14:04:17</td>\n",
       "      <td>Closed</td>\n",
       "      <td>Disorderly Conduct</td>\n",
       "      <td>70 ARTS CIRCLE DR</td>\n",
       "    </tr>\n",
       "    <tr>\n",
       "      <th>2</th>\n",
       "      <td>2016-00000687</td>\n",
       "      <td>Allison Hall</td>\n",
       "      <td>All Disorderly Conduct</td>\n",
       "      <td>2016-05-01 17:13:00</td>\n",
       "      <td>2016-05-01 17:13:01</td>\n",
       "      <td>Closed</td>\n",
       "      <td>Suspicious Circumstances</td>\n",
       "      <td>1820 CHICAGO AVE</td>\n",
       "    </tr>\n",
       "    <tr>\n",
       "      <th>5</th>\n",
       "      <td>2016-00000690</td>\n",
       "      <td>Willard Hall</td>\n",
       "      <td>NaN</td>\n",
       "      <td>2016-04-28 22:30:00</td>\n",
       "      <td>2016-05-02 15:19:22</td>\n",
       "      <td>Closed</td>\n",
       "      <td>Lost &amp; found prop</td>\n",
       "      <td>1865 SHERMAN AVE</td>\n",
       "    </tr>\n",
       "    <tr>\n",
       "      <th>8</th>\n",
       "      <td>2016-00000695</td>\n",
       "      <td>Pancoe</td>\n",
       "      <td>Theft $500 and Under</td>\n",
       "      <td>2016-05-03 11:00:00</td>\n",
       "      <td>2016-05-03 13:50:31</td>\n",
       "      <td>Closed</td>\n",
       "      <td>Theft</td>\n",
       "      <td>2200 CAMPUS DR</td>\n",
       "    </tr>\n",
       "    <tr>\n",
       "      <th>9</th>\n",
       "      <td>2016-00000699</td>\n",
       "      <td>Searle C/D</td>\n",
       "      <td>NaN</td>\n",
       "      <td>2016-05-03 22:32:00</td>\n",
       "      <td>2016-05-03 22:44:08</td>\n",
       "      <td>Closed</td>\n",
       "      <td>Public Service</td>\n",
       "      <td>2240 CAMPUS DR</td>\n",
       "    </tr>\n",
       "  </tbody>\n",
       "</table>\n",
       "</div>"
      ],
      "text/plain": [
       "     Case Number         Common Name:       Criminal Offense:  \\\n",
       "1  2016-00000686  Bienen Music School  All Disorderly Conduct   \n",
       "2  2016-00000687         Allison Hall  All Disorderly Conduct   \n",
       "5  2016-00000690         Willard Hall                     NaN   \n",
       "8  2016-00000695               Pancoe    Theft $500 and Under   \n",
       "9  2016-00000699           Searle C/D                     NaN   \n",
       "\n",
       "  Date & Time: Occurred Date & Time: Reported Disposition:  \\\n",
       "1   2016-05-01 13:56:00   2016-05-01 14:04:17       Closed   \n",
       "2   2016-05-01 17:13:00   2016-05-01 17:13:01       Closed   \n",
       "5   2016-04-28 22:30:00   2016-05-02 15:19:22       Closed   \n",
       "8   2016-05-03 11:00:00   2016-05-03 13:50:31       Closed   \n",
       "9   2016-05-03 22:32:00   2016-05-03 22:44:08       Closed   \n",
       "\n",
       "             Incident Type:          Location:  \n",
       "1        Disorderly Conduct  70 ARTS CIRCLE DR  \n",
       "2  Suspicious Circumstances   1820 CHICAGO AVE  \n",
       "5         Lost & found prop   1865 SHERMAN AVE  \n",
       "8                     Theft     2200 CAMPUS DR  \n",
       "9            Public Service     2240 CAMPUS DR  "
      ]
     },
     "execution_count": 1,
     "metadata": {},
     "output_type": "execute_result"
    }
   ],
   "source": [
    "import pandas as pd\n",
    "\n",
    "df = pd.read_excel('nu-police-data-may2016.xlsx')\n",
    "df.head()"
   ]
  }
 ],
 "metadata": {
  "kernelspec": {
   "display_name": "Python 2",
   "language": "python",
   "name": "python2"
  },
  "language_info": {
   "codemirror_mode": {
    "name": "ipython",
    "version": 2
   },
   "file_extension": ".py",
   "mimetype": "text/x-python",
   "name": "python",
   "nbconvert_exporter": "python",
   "pygments_lexer": "ipython2",
   "version": "2.7.11"
  }
 },
 "nbformat": 4,
 "nbformat_minor": 0
}
